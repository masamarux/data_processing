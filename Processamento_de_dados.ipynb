{
  "nbformat": 4,
  "nbformat_minor": 0,
  "metadata": {
    "colab": {
      "name": "Processamento de dados.ipynb",
      "provenance": [],
      "collapsed_sections": [
        "4L1RK-Bco5NN",
        "XwYjRazEwE_u",
        "wtLB37XWBrg0",
        "r5F4COPKwE_v",
        "gj8bI5uuwxqS",
        "ql5bCnXzwE_v",
        "a5J4dRMkfnSG"
      ],
      "authorship_tag": "ABX9TyP1JJIoyGoNgnn69oziLHHX"
    },
    "kernelspec": {
      "name": "python3",
      "display_name": "Python 3"
    }
  },
  "cells": [
    {
      "cell_type": "markdown",
      "metadata": {
        "id": "4L1RK-Bco5NN"
      },
      "source": [
        "# **Pré-processamento**"
      ]
    },
    {
      "cell_type": "code",
      "metadata": {
        "id": "iHeZSez1qeE6"
      },
      "source": [
        "import warnings\n",
        "warnings.filterwarnings(\"ignore\", category=DeprecationWarning)"
      ],
      "execution_count": null,
      "outputs": []
    },
    {
      "cell_type": "code",
      "metadata": {
        "id": "t-1pdNotqhJW"
      },
      "source": [
        "import numpy as np\n",
        "import pandas as pd\n",
        "import seaborn as sns\n",
        "\n",
        "from sklearn.ensemble import RandomForestClassifier\n",
        "from sklearn.tree import DecisionTreeClassifier\n",
        "from sklearn.neural_network import MLPClassifier\n",
        "\n",
        "from imblearn.under_sampling import NearMiss\n",
        "from sklearn.model_selection import train_test_split\n",
        "from sklearn.model_selection import cross_val_score\n",
        "from sklearn.model_selection import cross_val_predict\n",
        "from sklearn.metrics import accuracy_score, confusion_matrix, classification_report"
      ],
      "execution_count": null,
      "outputs": []
    },
    {
      "cell_type": "markdown",
      "metadata": {
        "id": "5pFgW0nQCk6N"
      },
      "source": [
        "**Importando base da web**"
      ]
    },
    {
      "cell_type": "code",
      "metadata": {
        "id": "hzOinwKnCyL-"
      },
      "source": [
        "url = \"https://drive.google.com/uc?export=download&id=1V5iOafpDuFMfQXFFomDSV_cTK0VRLzxd\""
      ],
      "execution_count": null,
      "outputs": []
    },
    {
      "cell_type": "code",
      "metadata": {
        "id": "1g3sYwmVxEa1"
      },
      "source": [
        "df = pd.read_csv(url)"
      ],
      "execution_count": null,
      "outputs": []
    },
    {
      "cell_type": "markdown",
      "metadata": {
        "id": "9q4dlVyCZpGu"
      },
      "source": [
        "**Visualizando os registros do rótulo**"
      ]
    },
    {
      "cell_type": "code",
      "metadata": {
        "colab": {
          "base_uri": "https://localhost:8080/"
        },
        "id": "bHZi_t7yFAwK",
        "outputId": "ad3b9765-83eb-4a58-992a-5aa2b0677228"
      },
      "source": [
        "df.result.value_counts()"
      ],
      "execution_count": null,
      "outputs": [
        {
          "output_type": "execute_result",
          "data": {
            "text/plain": [
              "1    22654\n",
              "2     7508\n",
              "Name: result, dtype: int64"
            ]
          },
          "metadata": {
            "tags": []
          },
          "execution_count": 101
        }
      ]
    },
    {
      "cell_type": "code",
      "metadata": {
        "colab": {
          "base_uri": "https://localhost:8080/"
        },
        "id": "hsNtUD5CFBKx",
        "outputId": "cd460de7-89e2-40fc-f719-a40e5ea0200b"
      },
      "source": [
        "\n",
        "afterGraph = sns.countplot(x=\"result\", data=df)"
      ],
      "execution_count": null,
      "outputs": [
        {
          "output_type": "display_data",
          "data": {
            "image/png": "[encoded data removed]",
            "text/plain": [
              "<Figure size 432x288 with 1 Axes>"
            ]
          },
          "metadata": {
            "tags": [],
            "needs_background": "light"
          }
        }
      ]
    },
    {
      "cell_type": "markdown",
      "metadata": {
        "id": "umj-UWNG-8VY"
      },
      "source": [
        "**Separando dados da base**"
      ]
    },
    {
      "cell_type": "code",
      "metadata": {
        "id": "Dh7t8yPrRWEG"
      },
      "source": [
        "X = df.drop(\"result\", axis = 1)\n",
        "y = df.result"
      ],
      "execution_count": null,
      "outputs": []
    },
    {
      "cell_type": "markdown",
      "metadata": {
        "id": "s7ZTUSBBruDf"
      },
      "source": [
        "**Instanciando NearMiss e balanceando base**"
      ]
    },
    {
      "cell_type": "code",
      "metadata": {
        "id": "BSLtHbQ_ddIT"
      },
      "source": [
        "nr = NearMiss()"
      ],
      "execution_count": null,
      "outputs": []
    },
    {
      "cell_type": "code",
      "metadata": {
        "colab": {
          "base_uri": "https://localhost:8080/"
        },
        "id": "_rU8awMOtAZZ",
        "outputId": "2aac62f1-3a2c-47ba-a1d7-c60c2fd9a142"
      },
      "source": [
        "X, y = nr.fit_sample(X, y)"
      ],
      "execution_count": null,
      "outputs": [
        {
          "output_type": "stream",
          "text": [
            "/usr/local/lib/python3.6/dist-packages/sklearn/utils/deprecation.py:87: FutureWarning: Function safe_indexing is deprecated; safe_indexing is deprecated in version 0.22 and will be removed in version 0.24.\n",
            "  warnings.warn(msg, category=FutureWarning)\n",
            "/usr/local/lib/python3.6/dist-packages/sklearn/utils/deprecation.py:87: FutureWarning: Function safe_indexing is deprecated; safe_indexing is deprecated in version 0.22 and will be removed in version 0.24.\n",
            "  warnings.warn(msg, category=FutureWarning)\n",
            "/usr/local/lib/python3.6/dist-packages/sklearn/utils/deprecation.py:87: FutureWarning: Function safe_indexing is deprecated; safe_indexing is deprecated in version 0.22 and will be removed in version 0.24.\n",
            "  warnings.warn(msg, category=FutureWarning)\n"
          ],
          "name": "stderr"
        }
      ]
    },
    {
      "cell_type": "code",
      "metadata": {
        "colab": {
          "base_uri": "https://localhost:8080/"
        },
        "id": "G2wZPGoZtE00",
        "outputId": "b5c549f4-ffec-4dc0-80ef-5e550808b00c"
      },
      "source": [
        "beforeGraph = sns.countplot(x=y)"
      ],
      "execution_count": null,
      "outputs": [
        {
          "output_type": "display_data",
          "data": {
            "image/png": "[encoded data removed]",
            "text/plain": [
              "<Figure size 432x288 with 1 Axes>"
            ]
          },
          "metadata": {
            "tags": [],
            "needs_background": "light"
          }
        }
      ]
    },
    {
      "cell_type": "markdown",
      "metadata": {
        "id": "cxDdI31PpBL6"
      },
      "source": [
        "# **Instânciando classificadores e validação cruzada**"
      ]
    },
    {
      "cell_type": "markdown",
      "metadata": {
        "id": "JHgy449Stxqf"
      },
      "source": [
        "**Classificadores**"
      ]
    },
    {
      "cell_type": "code",
      "metadata": {
        "id": "CjSpb9NEt2ET"
      },
      "source": [
        "rf = RandomForestClassifier(n_estimators=100)"
      ],
      "execution_count": null,
      "outputs": []
    },
    {
      "cell_type": "code",
      "metadata": {
        "id": "380l0qivt018"
      },
      "source": [
        "dt = DecisionTreeClassifier()"
      ],
      "execution_count": null,
      "outputs": []
    },
    {
      "cell_type": "code",
      "metadata": {
        "id": "LEho1Slvt2sn"
      },
      "source": [
        "nn = MLPClassifier(hidden_layer_sizes=(30,30,30)) #solver='lbfgs'\n"
      ],
      "execution_count": null,
      "outputs": []
    },
    {
      "cell_type": "markdown",
      "metadata": {
        "id": "27m2eQyGvX9L"
      },
      "source": [
        "**Validação cruzada**"
      ]
    },
    {
      "cell_type": "code",
      "metadata": {
        "id": "xf8DwGVbwOUD"
      },
      "source": [
        "rf_Pred = cross_val_predict(rf, X, y, cv = 10)"
      ],
      "execution_count": null,
      "outputs": []
    },
    {
      "cell_type": "code",
      "metadata": {
        "id": "kvxEyVMTvvEG"
      },
      "source": [
        "dt_Pred = cross_val_predict(dt, X, y, cv = 10)"
      ],
      "execution_count": null,
      "outputs": []
    },
    {
      "cell_type": "code",
      "metadata": {
        "id": "EdU-F2LTwOHn",
        "colab": {
          "base_uri": "https://localhost:8080/"
        },
        "outputId": "2c69f3ec-4c73-4810-a23b-52fdf6dba6a7"
      },
      "source": [
        "nn_Pred = cross_val_predict(nn, X, y, cv = 10)"
      ],
      "execution_count": null,
      "outputs": [
        {
          "output_type": "stream",
          "text": [
            "/usr/local/lib/python3.6/dist-packages/sklearn/neural_network/_multilayer_perceptron.py:571: ConvergenceWarning: Stochastic Optimizer: Maximum iterations (200) reached and the optimization hasn't converged yet.\n",
            "  % self.max_iter, ConvergenceWarning)\n",
            "/usr/local/lib/python3.6/dist-packages/sklearn/neural_network/_multilayer_perceptron.py:571: ConvergenceWarning: Stochastic Optimizer: Maximum iterations (200) reached and the optimization hasn't converged yet.\n",
            "  % self.max_iter, ConvergenceWarning)\n",
            "/usr/local/lib/python3.6/dist-packages/sklearn/neural_network/_multilayer_perceptron.py:571: ConvergenceWarning: Stochastic Optimizer: Maximum iterations (200) reached and the optimization hasn't converged yet.\n",
            "  % self.max_iter, ConvergenceWarning)\n",
            "/usr/local/lib/python3.6/dist-packages/sklearn/neural_network/_multilayer_perceptron.py:571: ConvergenceWarning: Stochastic Optimizer: Maximum iterations (200) reached and the optimization hasn't converged yet.\n",
            "  % self.max_iter, ConvergenceWarning)\n",
            "/usr/local/lib/python3.6/dist-packages/sklearn/neural_network/_multilayer_perceptron.py:571: ConvergenceWarning: Stochastic Optimizer: Maximum iterations (200) reached and the optimization hasn't converged yet.\n",
            "  % self.max_iter, ConvergenceWarning)\n"
          ],
          "name": "stderr"
        }
      ]
    },
    {
      "cell_type": "markdown",
      "metadata": {
        "id": "ffPLKaD7E99d"
      },
      "source": [
        "**Separando treino e teste**"
      ]
    },
    {
      "cell_type": "code",
      "metadata": {
        "id": "o0sT16AM_yx_"
      },
      "source": [
        "X_train, X_test, y_train, y_test = train_test_split(X, y, random_state = 1, stratify=y)"
      ],
      "execution_count": null,
      "outputs": []
    },
    {
      "cell_type": "markdown",
      "metadata": {
        "id": "0A0OehHUpNMb"
      },
      "source": [
        "# **Trabalhando com os dados**"
      ]
    },
    {
      "cell_type": "markdown",
      "metadata": {
        "id": "XwYjRazEwE_u"
      },
      "source": [
        "# Random forest sem validação"
      ]
    },
    {
      "cell_type": "code",
      "metadata": {
        "colab": {
          "base_uri": "https://localhost:8080/"
        },
        "id": "aHzApre6_yyC",
        "outputId": "012e2a92-2333-4dcf-8dca-ca5150937052"
      },
      "source": [
        "rf.fit(X_train, y_train)"
      ],
      "execution_count": null,
      "outputs": [
        {
          "output_type": "execute_result",
          "data": {
            "text/plain": [
              "RandomForestClassifier(bootstrap=True, ccp_alpha=0.0, class_weight=None,\n",
              "                       criterion='gini', max_depth=None, max_features='auto',\n",
              "                       max_leaf_nodes=None, max_samples=None,\n",
              "                       min_impurity_decrease=0.0, min_impurity_split=None,\n",
              "                       min_samples_leaf=1, min_samples_split=2,\n",
              "                       min_weight_fraction_leaf=0.0, n_estimators=100,\n",
              "                       n_jobs=None, oob_score=False, random_state=None,\n",
              "                       verbose=0, warm_start=False)"
            ]
          },
          "metadata": {
            "tags": []
          },
          "execution_count": 114
        }
      ]
    },
    {
      "cell_type": "code",
      "metadata": {
        "id": "LBBm7S0X_yyE"
      },
      "source": [
        "rf_simple_pred = rf.predict(X_test)"
      ],
      "execution_count": null,
      "outputs": []
    },
    {
      "cell_type": "markdown",
      "metadata": {
        "id": "e-aO_m5E_yyE"
      },
      "source": [
        "**Relatório de Classificação**"
      ]
    },
    {
      "cell_type": "code",
      "metadata": {
        "id": "7Mw6VK_M_yyF"
      },
      "source": [
        "relatorioRF = classification_report(y_test, rf_simple_pred)"
      ],
      "execution_count": null,
      "outputs": []
    },
    {
      "cell_type": "markdown",
      "metadata": {
        "id": "mGCJbtkl_yyG"
      },
      "source": [
        "**Matriz de confusão e taxas**"
      ]
    },
    {
      "cell_type": "code",
      "metadata": {
        "id": "pl-t4yNK_yyH"
      },
      "source": [
        "rfMatrix = confusion_matrix(y_test, rf_simple_pred)"
      ],
      "execution_count": null,
      "outputs": []
    },
    {
      "cell_type": "code",
      "metadata": {
        "id": "K6jksO9q_yyH"
      },
      "source": [
        "rfVn = rfMatrix[0,0]\n",
        "rfFn = rfMatrix[1,0]\n",
        "rfFp = rfMatrix[0,1]\n",
        "rfVp = rfMatrix[1,1]"
      ],
      "execution_count": null,
      "outputs": []
    },
    {
      "cell_type": "code",
      "metadata": {
        "id": "QgBVyT-A_yyI"
      },
      "source": [
        "acuraciaRf = (rfVp + rfVn) / (rfVp + rfVn + rfFp + rfFn)*100\n",
        "sensibilidadeRf = rfVp / (rfVn + rfFn) * 100\n",
        "especificidadeRf = rfVn / (rfVn + rfFp) * 100\n",
        "t_erroRf = (rfFp + rfFn) / (rfVp + rfVn + rfFp + rfFn) * 100"
      ],
      "execution_count": null,
      "outputs": []
    },
    {
      "cell_type": "markdown",
      "metadata": {
        "id": "wtLB37XWBrg0"
      },
      "source": [
        "# Random forest com validação"
      ]
    },
    {
      "cell_type": "code",
      "metadata": {
        "id": "fWkg-gWwBrg2",
        "colab": {
          "base_uri": "https://localhost:8080/"
        },
        "outputId": "3449304b-cd2e-498e-ca1f-669ec2973da0"
      },
      "source": [
        "rf.fit(X, y)"
      ],
      "execution_count": null,
      "outputs": [
        {
          "output_type": "execute_result",
          "data": {
            "text/plain": [
              "RandomForestClassifier(bootstrap=True, ccp_alpha=0.0, class_weight=None,\n",
              "                       criterion='gini', max_depth=None, max_features='auto',\n",
              "                       max_leaf_nodes=None, max_samples=None,\n",
              "                       min_impurity_decrease=0.0, min_impurity_split=None,\n",
              "                       min_samples_leaf=1, min_samples_split=2,\n",
              "                       min_weight_fraction_leaf=0.0, n_estimators=100,\n",
              "                       n_jobs=None, oob_score=False, random_state=None,\n",
              "                       verbose=0, warm_start=False)"
            ]
          },
          "metadata": {
            "tags": []
          },
          "execution_count": 121
        }
      ]
    },
    {
      "cell_type": "markdown",
      "metadata": {
        "id": "U_Nq7tuwBrg3"
      },
      "source": [
        "**Relatório de Classificação**"
      ]
    },
    {
      "cell_type": "code",
      "metadata": {
        "id": "FLun4XL9Brg3"
      },
      "source": [
        "relatorioRF_vld = classification_report(y, rf_Pred)"
      ],
      "execution_count": null,
      "outputs": []
    },
    {
      "cell_type": "markdown",
      "metadata": {
        "id": "miqglGZmBrg5"
      },
      "source": [
        "**Matriz de confusão e taxas**"
      ]
    },
    {
      "cell_type": "code",
      "metadata": {
        "id": "a-znC211Brg5"
      },
      "source": [
        "rfMatrix_vld = confusion_matrix(y, rf_Pred)"
      ],
      "execution_count": null,
      "outputs": []
    },
    {
      "cell_type": "code",
      "metadata": {
        "id": "v3UYDLPSBrg5"
      },
      "source": [
        "rfVn_vld = rfMatrix_vld[0,0]\n",
        "rfFn_vld = rfMatrix_vld[1,0]\n",
        "rfFp_vld = rfMatrix_vld[0,1]\n",
        "rfVp_vld = rfMatrix_vld[1,1]"
      ],
      "execution_count": null,
      "outputs": []
    },
    {
      "cell_type": "code",
      "metadata": {
        "id": "ewa1_ZNVBrg6"
      },
      "source": [
        "acuraciaRf_vld = (rfVp_vld + rfVn_vld) / (rfVp_vld + rfVn_vld + rfFp_vld + rfFn_vld)*100\n",
        "sensibilidadeRf_vld = rfVp_vld / (rfVn_vld + rfFn_vld) * 100\n",
        "especificidadeRf_vld = rfVn_vld / (rfVn_vld + rfFp_vld) * 100\n",
        "t_erroRf_vld = (rfFp_vld + rfFn_vld) / (rfVp_vld + rfVn_vld + rfFp_vld + rfFn_vld) * 100"
      ],
      "execution_count": null,
      "outputs": []
    },
    {
      "cell_type": "markdown",
      "metadata": {
        "id": "r5F4COPKwE_v"
      },
      "source": [
        "# Decision tree sem validação"
      ]
    },
    {
      "cell_type": "code",
      "metadata": {
        "id": "OYvtAP1y3d9c",
        "colab": {
          "base_uri": "https://localhost:8080/"
        },
        "outputId": "c374a706-6b0f-4fec-d956-107ed00c14e6"
      },
      "source": [
        "dt.fit(X_train, y_train)"
      ],
      "execution_count": null,
      "outputs": [
        {
          "output_type": "execute_result",
          "data": {
            "text/plain": [
              "DecisionTreeClassifier(ccp_alpha=0.0, class_weight=None, criterion='gini',\n",
              "                       max_depth=None, max_features=None, max_leaf_nodes=None,\n",
              "                       min_impurity_decrease=0.0, min_impurity_split=None,\n",
              "                       min_samples_leaf=1, min_samples_split=2,\n",
              "                       min_weight_fraction_leaf=0.0, presort='deprecated',\n",
              "                       random_state=None, splitter='best')"
            ]
          },
          "metadata": {
            "tags": []
          },
          "execution_count": 127
        }
      ]
    },
    {
      "cell_type": "code",
      "metadata": {
        "id": "BZv_oQJi4bxX"
      },
      "source": [
        "dt_simple_pred = dt.predict(X_test)"
      ],
      "execution_count": null,
      "outputs": []
    },
    {
      "cell_type": "markdown",
      "metadata": {
        "id": "0RIBLSjV65wv"
      },
      "source": [
        "**Relatório de Classificação**"
      ]
    },
    {
      "cell_type": "code",
      "metadata": {
        "id": "xFq-hAiL5lv0"
      },
      "source": [
        "relatorioDT = classification_report(y_test, dt_simple_pred)"
      ],
      "execution_count": null,
      "outputs": []
    },
    {
      "cell_type": "markdown",
      "metadata": {
        "id": "MBUajUEgDHHy"
      },
      "source": [
        "**Matriz de confusão e taxas**"
      ]
    },
    {
      "cell_type": "code",
      "metadata": {
        "id": "5c7cT4VpDOMB"
      },
      "source": [
        "dtMatrix = confusion_matrix(y_test, dt_simple_pred)"
      ],
      "execution_count": null,
      "outputs": []
    },
    {
      "cell_type": "code",
      "metadata": {
        "id": "uXiTAnNrFMJA"
      },
      "source": [
        "dtVn = dtMatrix[0,0]\n",
        "dtFn = dtMatrix[1,0]\n",
        "dtFp = dtMatrix[0,1]\n",
        "dtVp = dtMatrix[1,1]"
      ],
      "execution_count": null,
      "outputs": []
    },
    {
      "cell_type": "code",
      "metadata": {
        "id": "VyshpZTbF9jh"
      },
      "source": [
        "acuraciaDt = (dtVp + dtVn) / (dtVp + dtVn + dtFp + dtFn)*100\n",
        "sensibilidadeDt = dtVp / (dtVn + dtFn) * 100\n",
        "especificidadeDt = dtVn / (dtVn + dtFp) * 100\n",
        "t_erroDt = (dtFp + dtFn) / (dtVp + dtVn + dtFp + dtFn) * 100"
      ],
      "execution_count": null,
      "outputs": []
    },
    {
      "cell_type": "markdown",
      "metadata": {
        "id": "gj8bI5uuwxqS"
      },
      "source": [
        "# Decision tree com validação"
      ]
    },
    {
      "cell_type": "code",
      "metadata": {
        "id": "9H8Yes3v01qk",
        "colab": {
          "base_uri": "https://localhost:8080/"
        },
        "outputId": "c4f98f79-7c49-4ac6-9a8f-a35be859b464"
      },
      "source": [
        "dt.fit(X, y)"
      ],
      "execution_count": null,
      "outputs": [
        {
          "output_type": "execute_result",
          "data": {
            "text/plain": [
              "DecisionTreeClassifier(ccp_alpha=0.0, class_weight=None, criterion='gini',\n",
              "                       max_depth=None, max_features=None, max_leaf_nodes=None,\n",
              "                       min_impurity_decrease=0.0, min_impurity_split=None,\n",
              "                       min_samples_leaf=1, min_samples_split=2,\n",
              "                       min_weight_fraction_leaf=0.0, presort='deprecated',\n",
              "                       random_state=None, splitter='best')"
            ]
          },
          "metadata": {
            "tags": []
          },
          "execution_count": 134
        }
      ]
    },
    {
      "cell_type": "markdown",
      "metadata": {
        "id": "iAruJMTBWETX"
      },
      "source": [
        "**Relatório de Classificação**"
      ]
    },
    {
      "cell_type": "code",
      "metadata": {
        "id": "Y_CKupww01ql"
      },
      "source": [
        "relatorioDT_vld = classification_report(y, dt_Pred)"
      ],
      "execution_count": null,
      "outputs": []
    },
    {
      "cell_type": "markdown",
      "metadata": {
        "id": "rLEagEPOWIMP"
      },
      "source": [
        "**Matriz de confusão e taxas**"
      ]
    },
    {
      "cell_type": "code",
      "metadata": {
        "id": "SfnyZkSB01qm"
      },
      "source": [
        "dtMatrix_vld = confusion_matrix(y, dt_Pred)"
      ],
      "execution_count": null,
      "outputs": []
    },
    {
      "cell_type": "code",
      "metadata": {
        "id": "168GrFzQ01qm"
      },
      "source": [
        "dtVn_vld = dtMatrix_vld[0,0]\n",
        "dtFn_vld = dtMatrix_vld[1,0]\n",
        "dtFp_vld = dtMatrix_vld[0,1]\n",
        "dtVp_vld = dtMatrix_vld[1,1]"
      ],
      "execution_count": null,
      "outputs": []
    },
    {
      "cell_type": "code",
      "metadata": {
        "id": "pfMj-RXU01qn"
      },
      "source": [
        "acuraciaDt_vld = (dtVp_vld + dtVn_vld) / (dtVp_vld + dtVn_vld + dtFp_vld + dtFn_vld)*100\n",
        "sensibilidadeDt_vld = dtVp_vld / (dtVn_vld + dtFn_vld) * 100\n",
        "especificidadeDt_vld = dtVn_vld / (dtVn_vld + dtFp_vld) * 100\n",
        "t_erroDt_vld = (dtFp_vld + dtFn_vld)/ (dtVp_vld + dtVn_vld + dtFp_vld + dtFn_vld) * 100"
      ],
      "execution_count": null,
      "outputs": []
    },
    {
      "cell_type": "markdown",
      "metadata": {
        "id": "ql5bCnXzwE_v"
      },
      "source": [
        "# Neural Network sem validação"
      ]
    },
    {
      "cell_type": "code",
      "metadata": {
        "colab": {
          "base_uri": "https://localhost:8080/"
        },
        "id": "7jKSoxfvWiz1",
        "outputId": "108ccad6-5b2f-4aae-b507-d1699aba85cc"
      },
      "source": [
        "nn.fit(X_train, y_train)"
      ],
      "execution_count": null,
      "outputs": [
        {
          "output_type": "stream",
          "text": [
            "/usr/local/lib/python3.6/dist-packages/sklearn/neural_network/_multilayer_perceptron.py:571: ConvergenceWarning: Stochastic Optimizer: Maximum iterations (200) reached and the optimization hasn't converged yet.\n",
            "  % self.max_iter, ConvergenceWarning)\n"
          ],
          "name": "stderr"
        },
        {
          "output_type": "execute_result",
          "data": {
            "text/plain": [
              "MLPClassifier(activation='relu', alpha=0.0001, batch_size='auto', beta_1=0.9,\n",
              "              beta_2=0.999, early_stopping=False, epsilon=1e-08,\n",
              "              hidden_layer_sizes=(30, 30, 30), learning_rate='constant',\n",
              "              learning_rate_init=0.001, max_fun=15000, max_iter=200,\n",
              "              momentum=0.9, n_iter_no_change=10, nesterovs_momentum=True,\n",
              "              power_t=0.5, random_state=None, shuffle=True, solver='adam',\n",
              "              tol=0.0001, validation_fraction=0.1, verbose=False,\n",
              "              warm_start=False)"
            ]
          },
          "metadata": {
            "tags": []
          },
          "execution_count": 140
        }
      ]
    },
    {
      "cell_type": "code",
      "metadata": {
        "id": "MbQaLjN2Wiz3"
      },
      "source": [
        "nn_simple_pred = nn.predict(X_test)"
      ],
      "execution_count": null,
      "outputs": []
    },
    {
      "cell_type": "markdown",
      "metadata": {
        "id": "Dw-i6jeZWiz3"
      },
      "source": [
        "**Relatório de Classificação**"
      ]
    },
    {
      "cell_type": "code",
      "metadata": {
        "id": "DxMhagnrWiz4"
      },
      "source": [
        "relatorioNN = classification_report(y_test, nn_simple_pred)"
      ],
      "execution_count": null,
      "outputs": []
    },
    {
      "cell_type": "markdown",
      "metadata": {
        "id": "rhHNk807Wiz4"
      },
      "source": [
        "**Matriz de confusão e taxas**"
      ]
    },
    {
      "cell_type": "code",
      "metadata": {
        "id": "o9N0kUIbWiz6"
      },
      "source": [
        "nnMatrix = confusion_matrix(y_test, nn_simple_pred)"
      ],
      "execution_count": null,
      "outputs": []
    },
    {
      "cell_type": "code",
      "metadata": {
        "id": "JnRoWB2uWiz6"
      },
      "source": [
        "nnVn = nnMatrix[0,0]\n",
        "nnFn = nnMatrix[1,0]\n",
        "nnFp = nnMatrix[0,1]\n",
        "nnVp = nnMatrix[1,1]"
      ],
      "execution_count": null,
      "outputs": []
    },
    {
      "cell_type": "code",
      "metadata": {
        "id": "50FZN6AwWiz6"
      },
      "source": [
        "acuraciaNn = (nnVp + nnVn) / (nnVp + nnVn + nnFp + nnFn)*100\n",
        "sensibilidadeNn = nnVp / (nnVn + nnFn) * 100\n",
        "especificidadeNn = nnVn / (nnVn + nnFp) * 100\n",
        "t_erroNn = (nnFp + nnFn) / (nnVp + nnVn + nnFp + nnFn) * 100"
      ],
      "execution_count": null,
      "outputs": []
    },
    {
      "cell_type": "markdown",
      "metadata": {
        "id": "a5J4dRMkfnSG"
      },
      "source": [
        "# Neural Network com validação"
      ]
    },
    {
      "cell_type": "code",
      "metadata": {
        "id": "g2xS8CN6fl88",
        "colab": {
          "base_uri": "https://localhost:8080/"
        },
        "outputId": "37d1de22-fc10-4d17-82ba-10ea8fb85b58"
      },
      "source": [
        "dt.fit(X, y)"
      ],
      "execution_count": null,
      "outputs": [
        {
          "output_type": "execute_result",
          "data": {
            "text/plain": [
              "DecisionTreeClassifier(ccp_alpha=0.0, class_weight=None, criterion='gini',\n",
              "                       max_depth=None, max_features=None, max_leaf_nodes=None,\n",
              "                       min_impurity_decrease=0.0, min_impurity_split=None,\n",
              "                       min_samples_leaf=1, min_samples_split=2,\n",
              "                       min_weight_fraction_leaf=0.0, presort='deprecated',\n",
              "                       random_state=None, splitter='best')"
            ]
          },
          "metadata": {
            "tags": []
          },
          "execution_count": 147
        }
      ]
    },
    {
      "cell_type": "markdown",
      "metadata": {
        "id": "7PrglrVJfl89"
      },
      "source": [
        "**Relatório de Classificação**"
      ]
    },
    {
      "cell_type": "code",
      "metadata": {
        "id": "5S12zLisfl89"
      },
      "source": [
        "relatorioNN_vld = classification_report(y, nn_Pred)"
      ],
      "execution_count": null,
      "outputs": []
    },
    {
      "cell_type": "markdown",
      "metadata": {
        "id": "T67u72aZfl8_"
      },
      "source": [
        "**Matriz de confusão e taxas**"
      ]
    },
    {
      "cell_type": "code",
      "metadata": {
        "id": "_fZ_hv-Wfl8_"
      },
      "source": [
        "nnMatrix_vld = confusion_matrix(y, nn_Pred)"
      ],
      "execution_count": null,
      "outputs": []
    },
    {
      "cell_type": "code",
      "metadata": {
        "id": "a-f5wJDbfl9A"
      },
      "source": [
        "nnVn_vld = nnMatrix_vld[0,0]\n",
        "nnFn_vld = nnMatrix_vld[1,0]\n",
        "nnFp_vld = nnMatrix_vld[0,1]\n",
        "nnVp_vld = nnMatrix_vld[1,1]"
      ],
      "execution_count": null,
      "outputs": []
    },
    {
      "cell_type": "code",
      "metadata": {
        "id": "OHlAwgtxexg4"
      },
      "source": [
        "acuraciaNn_vld = (nnVp_vld + nnVn_vld) / (nnVp_vld + nnVn_vld + nnFp_vld + nnFn_vld)*100\n",
        "sensibilidadeNn_vld = nnVp_vld / (nnVn_vld + nnFn_vld) * 100\n",
        "especificidadeNn_vld = nnVn_vld / (nnVn_vld + nnFp_vld) * 100\n",
        "t_erroNn_vld = (nnFp_vld + nnFn_vld) / (nnVn_vld + nnFp_vld + nnFp_vld + nnFn_vld) * 100"
      ],
      "execution_count": null,
      "outputs": []
    },
    {
      "cell_type": "markdown",
      "metadata": {
        "id": "SS_I65xapRLs"
      },
      "source": [
        "# **Resultados**"
      ]
    },
    {
      "cell_type": "markdown",
      "metadata": {
        "id": "9Hj0g3NxpqG3"
      },
      "source": [
        "**Random forest**"
      ]
    },
    {
      "cell_type": "code",
      "metadata": {
        "colab": {
          "base_uri": "https://localhost:8080/"
        },
        "id": "aGj4yumg_yyF",
        "outputId": "7a4498dc-94f7-4fae-efce-d72fb0e231f1"
      },
      "source": [
        "print(\"Random Forest \\n\")\n",
        "print(\"Relatório sem validação cruzada \\n\")\n",
        "print(relatorioRF)\n",
        "print(\"\\n Relatório com validação cruzada \\n\")\n",
        "print(relatorioRF_vld)"
      ],
      "execution_count": null,
      "outputs": [
        {
          "output_type": "stream",
          "text": [
            "Random Forest \n",
            "\n",
            "Relatório sem validação cruzada \n",
            "\n",
            "              precision    recall  f1-score   support\n",
            "\n",
            "           1       0.84      0.82      0.83      1877\n",
            "           2       0.82      0.85      0.84      1877\n",
            "\n",
            "    accuracy                           0.83      3754\n",
            "   macro avg       0.83      0.83      0.83      3754\n",
            "weighted avg       0.83      0.83      0.83      3754\n",
            "\n",
            "\n",
            " Relatório com validação cruzada \n",
            "\n",
            "              precision    recall  f1-score   support\n",
            "\n",
            "           1       0.68      0.84      0.75      7508\n",
            "           2       0.79      0.61      0.69      7508\n",
            "\n",
            "    accuracy                           0.73     15016\n",
            "   macro avg       0.74      0.73      0.72     15016\n",
            "weighted avg       0.74      0.73      0.72     15016\n",
            "\n"
          ],
          "name": "stdout"
        }
      ]
    },
    {
      "cell_type": "code",
      "metadata": {
        "colab": {
          "base_uri": "https://localhost:8080/"
        },
        "id": "vnocem4v_yyI",
        "outputId": "023d3a26-2418-4bb9-96a4-4bf2e8bfd673"
      },
      "source": [
        "print(\"Random Forest \\n\")\n",
        "print(\"Taxas da Matrix da Confusão sem validação cruzada\")\n",
        "print(\"Acurácia: \", int(acuraciaRf), \"%\")\n",
        "print(\"Sensibilidade: \", int(sensibilidadeRf), \"%\")\n",
        "print(\"Especificidade: \", int(especificidadeRf), \"%\")\n",
        "print(\"Taxa de Erro: \", int(t_erroRf), \"%\")\n",
        "print(\"\\n\")\n",
        "print(\"Taxas da Matrix da Confusão com validação cruzada:\")\n",
        "print(\"Acurácia: \", int(acuraciaRf_vld), \"%\")\n",
        "print(\"Sensibilidade: \", int(sensibilidadeRf_vld), \"%\")\n",
        "print(\"Especificidade: \", int(especificidadeRf_vld), \"%\")\n",
        "print(\"Taxa de Erro: \", int(t_erroRf_vld), \"%\")"
      ],
      "execution_count": null,
      "outputs": [
        {
          "output_type": "stream",
          "text": [
            "Random Forest \n",
            "\n",
            "Taxas da Matrix da Confusão sem validação cruzada\n",
            "Acurácia:  83 %\n",
            "Sensibilidade:  87 %\n",
            "Especificidade:  81 %\n",
            "Taxa de Erro:  16 %\n",
            "\n",
            "\n",
            "Taxas da Matrix da Confusão com validação cruzada:\n",
            "Acurácia:  72 %\n",
            "Sensibilidade:  49 %\n",
            "Especificidade:  84 %\n",
            "Taxa de Erro:  27 %\n"
          ],
          "name": "stdout"
        }
      ]
    },
    {
      "cell_type": "markdown",
      "metadata": {
        "id": "seslFkoFp4TP"
      },
      "source": [
        "**Decision tree**"
      ]
    },
    {
      "cell_type": "code",
      "metadata": {
        "id": "OVA8-hmPDCYm",
        "colab": {
          "base_uri": "https://localhost:8080/"
        },
        "outputId": "eb4655ca-ba82-4a62-84ff-1f5ed3b6639a"
      },
      "source": [
        "print(\"Decision tree \\n\")\n",
        "print(\"Relatório sem validação cruzada \\n\")\n",
        "print(relatorioDT)\n",
        "print(\"\\n Relatório com validação cruzada \\n\")\n",
        "print(relatorioDT_vld)"
      ],
      "execution_count": null,
      "outputs": [
        {
          "output_type": "stream",
          "text": [
            "Decision tree \n",
            "\n",
            "Relatório sem validação cruzada \n",
            "\n",
            "              precision    recall  f1-score   support\n",
            "\n",
            "           1       0.78      0.78      0.78      1877\n",
            "           2       0.78      0.78      0.78      1877\n",
            "\n",
            "    accuracy                           0.78      3754\n",
            "   macro avg       0.78      0.78      0.78      3754\n",
            "weighted avg       0.78      0.78      0.78      3754\n",
            "\n",
            "\n",
            " Relatório com validação cruzada \n",
            "\n",
            "              precision    recall  f1-score   support\n",
            "\n",
            "           1       0.65      0.79      0.71      7508\n",
            "           2       0.73      0.57      0.64      7508\n",
            "\n",
            "    accuracy                           0.68     15016\n",
            "   macro avg       0.69      0.68      0.68     15016\n",
            "weighted avg       0.69      0.68      0.68     15016\n",
            "\n"
          ],
          "name": "stdout"
        }
      ]
    },
    {
      "cell_type": "code",
      "metadata": {
        "id": "mg9_2qLkHUWB",
        "colab": {
          "base_uri": "https://localhost:8080/"
        },
        "outputId": "5796eb70-d05f-4492-a98a-98ba40d351c0"
      },
      "source": [
        "print(\"Decision tree \\n\")\n",
        "print(\"Taxas da Matrix da Confusão sem validação cruzada\")\n",
        "print(\"Acurácia: \", int(acuraciaDt), \"%\")\n",
        "print(\"Sensibilidade: \", int(sensibilidadeDt), \"%\")\n",
        "print(\"Especificidade: \", int(especificidadeDt), \"%\")\n",
        "print(\"Taxa de Erro: \", int(t_erroDt), \"%\")\n",
        "print(\"\\n\")\n",
        "print(\"Taxas da Matrix da Confusão com validação cruzada:\")\n",
        "print(\"Acurácia: \", int(acuraciaDt_vld), \"%\")\n",
        "print(\"Sensibilidade: \", int(sensibilidadeDt_vld), \"%\")\n",
        "print(\"Especificidade: \", int(especificidadeDt_vld), \"%\")\n",
        "print(\"Taxa de Erro: \", int(t_erroDt_vld), \"%\")"
      ],
      "execution_count": null,
      "outputs": [
        {
          "output_type": "stream",
          "text": [
            "Decision tree \n",
            "\n",
            "Taxas da Matrix da Confusão sem validação cruzada\n",
            "Acurácia:  78 %\n",
            "Sensibilidade:  78 %\n",
            "Especificidade:  78 %\n",
            "Taxa de Erro:  21 %\n",
            "\n",
            "\n",
            "Taxas da Matrix da Confusão com validação cruzada:\n",
            "Acurácia:  67 %\n",
            "Sensibilidade:  46 %\n",
            "Especificidade:  79 %\n",
            "Taxa de Erro:  32 %\n"
          ],
          "name": "stdout"
        }
      ]
    },
    {
      "cell_type": "markdown",
      "metadata": {
        "id": "QvKIFpo_p7DE"
      },
      "source": [
        "**Neural Network**"
      ]
    },
    {
      "cell_type": "code",
      "metadata": {
        "colab": {
          "base_uri": "https://localhost:8080/"
        },
        "id": "N7LmzEAfWiz4",
        "outputId": "426064b9-ee6c-40e3-cc16-a6416b169980"
      },
      "source": [
        "print(\"Neural Network \\n\")\n",
        "print(\"Relatório sem validação cruzada \\n\")\n",
        "print(relatorioNN)\n",
        "print(\"\\n Relatório com validação cruzada \\n\")\n",
        "print(relatorioNN_vld)"
      ],
      "execution_count": null,
      "outputs": [
        {
          "output_type": "stream",
          "text": [
            "Neural Network \n",
            "\n",
            "Relatório sem validação cruzada \n",
            "\n",
            "              precision    recall  f1-score   support\n",
            "\n",
            "           1       0.83      0.03      0.06      1877\n",
            "           2       0.51      0.99      0.67      1877\n",
            "\n",
            "    accuracy                           0.51      3754\n",
            "   macro avg       0.67      0.51      0.36      3754\n",
            "weighted avg       0.67      0.51      0.36      3754\n",
            "\n",
            "\n",
            " Relatório com validação cruzada \n",
            "\n",
            "              precision    recall  f1-score   support\n",
            "\n",
            "           1       0.61      0.73      0.66      7508\n",
            "           2       0.66      0.54      0.59      7508\n",
            "\n",
            "    accuracy                           0.63     15016\n",
            "   macro avg       0.64      0.63      0.63     15016\n",
            "weighted avg       0.64      0.63      0.63     15016\n",
            "\n"
          ],
          "name": "stdout"
        }
      ]
    },
    {
      "cell_type": "code",
      "metadata": {
        "colab": {
          "base_uri": "https://localhost:8080/"
        },
        "id": "5eeaG-P6fWm6",
        "outputId": "011d2a0e-9924-4458-9dd9-6cb63ad5f49a"
      },
      "source": [
        "print(\"Neural Network \\n\")\n",
        "print(\"Taxas da Matrix da Confusão sem validação cruzada\")\n",
        "print(\"Acurácia: \", int(acuraciaNn), \"%\")\n",
        "print(\"Sensibilidade: \", int(sensibilidadeNn), \"%\")\n",
        "print(\"Especificidade: \", int(especificidadeNn), \"%\")\n",
        "print(\"Taxa de Erro: \", int(t_erroNn), \"%\")\n",
        "print(\"\\n\")\n",
        "print(\"Taxas da Matrix da Confusão com validação cruzada:\")\n",
        "print(\"Acurácia: \", int(acuraciaNn_vld), \"%\")\n",
        "print(\"Sensibilidade: \", int(sensibilidadeNn_vld), \"%\")\n",
        "print(\"Especificidade: \", int(especificidadeNn_vld), \"%\")\n",
        "print(\"Taxa de Erro: \", int(t_erroNn_vld), \"%\")"
      ],
      "execution_count": null,
      "outputs": [
        {
          "output_type": "stream",
          "text": [
            "Neural Network \n",
            "\n",
            "Taxas da Matrix da Confusão sem validação cruzada\n",
            "Acurácia:  51 %\n",
            "Sensibilidade:  2870 %\n",
            "Especificidade:  2 %\n",
            "Taxa de Erro:  48 %\n",
            "\n",
            "\n",
            "Taxas da Matrix da Confusão com validação cruzada:\n",
            "Acurácia:  63 %\n",
            "Sensibilidade:  44 %\n",
            "Especificidade:  72 %\n",
            "Taxa de Erro:  42 %\n"
          ],
          "name": "stdout"
        }
      ]
    }
  ]
}